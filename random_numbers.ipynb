{
 "cells": [
  {
   "cell_type": "code",
   "execution_count": 45,
   "id": "541cc802",
   "metadata": {},
   "outputs": [],
   "source": [
    "# Import the random module.\n",
    "import random"
   ]
  },
  {
   "cell_type": "code",
   "execution_count": 46,
   "id": "e24a6d8f",
   "metadata": {},
   "outputs": [
    {
     "data": {
      "text/plain": [
       "-38"
      ]
     },
     "execution_count": 46,
     "metadata": {},
     "output_type": "execute_result"
    }
   ],
   "source": [
    "random.randint(-90,90)"
   ]
  },
  {
   "cell_type": "code",
   "execution_count": 47,
   "id": "e06908fc",
   "metadata": {},
   "outputs": [
    {
     "data": {
      "text/plain": [
       "0.38629037145240896"
      ]
     },
     "execution_count": 47,
     "metadata": {},
     "output_type": "execute_result"
    }
   ],
   "source": [
    "random.random()"
   ]
  },
  {
   "cell_type": "code",
   "execution_count": 48,
   "id": "27870431",
   "metadata": {},
   "outputs": [
    {
     "data": {
      "text/plain": [
       "-14.51902685854291"
      ]
     },
     "execution_count": 48,
     "metadata": {},
     "output_type": "execute_result"
    }
   ],
   "source": [
    "random_number = random.randint(-90, 89) + random.random()\n",
    "random_number"
   ]
  },
  {
   "cell_type": "code",
   "execution_count": 49,
   "id": "42711e30",
   "metadata": {},
   "outputs": [],
   "source": [
    "x = 1\n",
    "latitudes = []\n",
    "while x < 11:\n",
    "    random_lat = random.randint(-90, 89) + random.random()\n",
    "    latitudes.append(random_lat)\n",
    "    x += 1"
   ]
  },
  {
   "cell_type": "code",
   "execution_count": 50,
   "id": "9fc0f617",
   "metadata": {},
   "outputs": [
    {
     "data": {
      "text/plain": [
       "-58"
      ]
     },
     "execution_count": 50,
     "metadata": {},
     "output_type": "execute_result"
    }
   ],
   "source": [
    "random.randrange(-90, 90, step=1)"
   ]
  },
  {
   "cell_type": "code",
   "execution_count": 51,
   "id": "3288840a",
   "metadata": {},
   "outputs": [
    {
     "data": {
      "text/plain": [
       "-81"
      ]
     },
     "execution_count": 51,
     "metadata": {},
     "output_type": "execute_result"
    }
   ],
   "source": [
    "random.randrange(-90, 90, step=3)"
   ]
  },
  {
   "cell_type": "code",
   "execution_count": 52,
   "id": "aa47113f",
   "metadata": {},
   "outputs": [
    {
     "data": {
      "text/plain": [
       "63.096219186370064"
      ]
     },
     "execution_count": 52,
     "metadata": {},
     "output_type": "execute_result"
    }
   ],
   "source": [
    "random.uniform(-90, 90)"
   ]
  },
  {
   "cell_type": "code",
   "execution_count": 53,
   "id": "1dc55052",
   "metadata": {},
   "outputs": [],
   "source": [
    "# Import the NumPy module.\n",
    "import numpy as np"
   ]
  },
  {
   "cell_type": "code",
   "execution_count": 54,
   "id": "f676ce02",
   "metadata": {
    "scrolled": true
   },
   "outputs": [
    {
     "data": {
      "text/plain": [
       "-61.77474429944"
      ]
     },
     "execution_count": 54,
     "metadata": {},
     "output_type": "execute_result"
    }
   ],
   "source": [
    "np.random.uniform(-90.000, 90.000)"
   ]
  },
  {
   "cell_type": "code",
   "execution_count": 55,
   "id": "185838b6",
   "metadata": {},
   "outputs": [
    {
     "data": {
      "text/plain": [
       "-2.0049879002917095"
      ]
     },
     "execution_count": 55,
     "metadata": {},
     "output_type": "execute_result"
    }
   ],
   "source": [
    "np.random.uniform(low=-90, high=90)"
   ]
  },
  {
   "cell_type": "code",
   "execution_count": 56,
   "id": "a5dc2e48",
   "metadata": {},
   "outputs": [
    {
     "data": {
      "text/plain": [
       "array([ 57.27065085,  89.8962281 , -51.82902734, -13.27136471,\n",
       "       -65.76831755, -20.51278004, -25.38819922,  22.77599625,\n",
       "       -69.0215017 ,  57.25608451,  58.7258113 , -79.73499156,\n",
       "        -3.14706615, -23.3313927 ,  35.29181071,  79.49669169,\n",
       "       -89.63387269, -53.54857836,  86.02254988,  74.3887108 ,\n",
       "       -87.47531862,  29.8731811 ,   1.79516412, -43.8006923 ,\n",
       "        -4.80906834,  49.6807461 , -36.57627906,  34.57806584,\n",
       "        84.50093595,  51.62733068,  81.17258114,  17.56371011,\n",
       "        46.09898286,  -8.02645943, -25.40072884,  -9.25599053,\n",
       "        83.7600433 ,  17.17571765, -15.36791674, -42.26955066,\n",
       "       -34.2382264 ,  78.40497702,  62.11794777,  40.68635548,\n",
       "         0.79077346,   9.09715211,  53.40875393,  16.96765181,\n",
       "       -25.08853557, -10.35592838])"
      ]
     },
     "execution_count": 56,
     "metadata": {},
     "output_type": "execute_result"
    }
   ],
   "source": [
    "np.random.uniform(-90.000, 90.000, size=50)"
   ]
  },
  {
   "cell_type": "code",
   "execution_count": 57,
   "id": "d45a4ba0",
   "metadata": {},
   "outputs": [
    {
     "data": {
      "text/plain": [
       "array([-81.48278716, -37.03836021,  89.38212903,  65.63526587,\n",
       "       -81.08687695,  23.35429952, -71.93247658,  63.72911025,\n",
       "       -11.6705027 , -34.21075019, -41.21818721, -54.04718914,\n",
       "       -77.42357551,  27.12660481, -11.61550782,  51.16881611,\n",
       "        43.18308136, -51.41696693, -48.02862116,  -6.05702018,\n",
       "        21.36779716,   5.9147787 ,  -1.19278972,  41.77974318,\n",
       "        74.84949202, -28.2007784 ,  24.35143794, -42.2664039 ,\n",
       "       -52.82081292,  34.44822674, -19.30653121,  40.35528525,\n",
       "        -3.01199466, -52.47646145,  61.3540452 ,  28.99220631,\n",
       "       -71.15887802, -75.06019426, -75.64748565, -57.59684926,\n",
       "       -24.60431106,  77.42561418,  49.62831823,  78.89772502,\n",
       "       -32.94216666, -14.22825719, -54.14651522, -70.38382272,\n",
       "       -48.51673976,  44.68060553,  88.60357603,  89.75367554,\n",
       "       -40.52898351, -29.91309836,  21.54488097,  44.43832523,\n",
       "        30.79618706,  -1.10635275,  52.16288303,  14.31269607,\n",
       "       -66.38639598,  47.28713066, -48.95593132,  12.02007683,\n",
       "        50.60416277, -48.56465526,  38.83429948,   4.97609358,\n",
       "        29.95077951, -51.61989499, -59.79957745,  44.9729798 ,\n",
       "       -56.48239487,  39.39470406, -55.66410781, -71.68899899,\n",
       "       -11.62309967,  -9.59280011, -70.01671589,  -1.17253181,\n",
       "       -68.37167098,  37.92433074, -83.49912842, -65.7252833 ,\n",
       "        39.24358657,  -0.877238  ,  25.56910098, -57.03113141,\n",
       "        15.12416443,  13.6088618 ,  37.59788401,  57.62618882,\n",
       "       -73.78734275,  24.19553455,  28.16993018, -85.52908401,\n",
       "       -23.8347907 ,  58.19830267, -13.05450998,  30.92536842,\n",
       "        66.46453545, -73.28906573,  25.36634981, -73.16824583,\n",
       "       -63.84635711,  46.38581747,  23.7186646 , -60.13110888,\n",
       "       -60.58355215, -30.81300257,  79.66376767, -10.1977766 ,\n",
       "        88.55628838, -62.25393543, -51.53763931, -51.16687533,\n",
       "       -66.59992321,  15.89882842,  72.56179405, -83.04968781,\n",
       "        78.19028978,  10.6787381 , -45.62291807,  37.1487787 ,\n",
       "       -20.75346731,  77.85937534,  42.41280417, -75.96597371,\n",
       "       -75.37011087, -51.29661267, -38.49551409,  59.70054348,\n",
       "         6.87530937,  -9.26205001,  11.80955048, -86.72948016,\n",
       "        76.61205003,  58.36196762, -27.53143862,  16.10271345,\n",
       "        30.46497432,  -7.35848522,  56.75759853, -78.42694353,\n",
       "       -29.47363427, -15.73090144,  18.34436725,  62.41282723,\n",
       "       -49.12633807,  37.46738549])"
      ]
     },
     "execution_count": 57,
     "metadata": {},
     "output_type": "execute_result"
    }
   ],
   "source": [
    "np.random.uniform(-90.000, 90.000, size=150)"
   ]
  },
  {
   "cell_type": "code",
   "execution_count": 58,
   "id": "d9c3f9d1",
   "metadata": {},
   "outputs": [],
   "source": [
    "# Import timeit.\n",
    "import timeit"
   ]
  },
  {
   "cell_type": "code",
   "execution_count": 59,
   "id": "a1a0a820",
   "metadata": {},
   "outputs": [
    {
     "name": "stdout",
     "output_type": "stream",
     "text": [
      "58.2 µs ± 2.71 µs per loop (mean ± std. dev. of 7 runs, 10000 loops each)\n"
     ]
    }
   ],
   "source": [
    "%timeit np.random.uniform(-90.000, 90.000, size=1500)"
   ]
  },
  {
   "cell_type": "code",
   "execution_count": 61,
   "id": "df1cf23c",
   "metadata": {},
   "outputs": [
    {
     "name": "stdout",
     "output_type": "stream",
     "text": [
      "4.78 ms ± 54.5 µs per loop (mean ± std. dev. of 7 runs, 100 loops each)\n"
     ]
    }
   ],
   "source": [
    "def latitudes(size):\n",
    "    latitudes = []\n",
    "    x = 0\n",
    "    while x < (size):\n",
    "        random_lat = random.randint(-90, 90) + random.random()\n",
    "        latitudes.append(random_lat)\n",
    "        x += 1\n",
    "    return latitudes\n",
    "# Call the function with 1500.\n",
    "%timeit latitudes(1500)"
   ]
  },
  {
   "cell_type": "code",
   "execution_count": null,
   "id": "a304eca2",
   "metadata": {},
   "outputs": [],
   "source": []
  },
  {
   "cell_type": "code",
   "execution_count": null,
   "id": "ba8814db",
   "metadata": {},
   "outputs": [],
   "source": []
  },
  {
   "cell_type": "code",
   "execution_count": null,
   "id": "7d9faa4b",
   "metadata": {},
   "outputs": [],
   "source": []
  },
  {
   "cell_type": "code",
   "execution_count": null,
   "id": "19c573e1",
   "metadata": {},
   "outputs": [],
   "source": []
  },
  {
   "cell_type": "code",
   "execution_count": null,
   "id": "e8b80ffc",
   "metadata": {},
   "outputs": [],
   "source": []
  },
  {
   "cell_type": "code",
   "execution_count": null,
   "id": "3f82bcf6",
   "metadata": {},
   "outputs": [],
   "source": []
  },
  {
   "cell_type": "code",
   "execution_count": null,
   "id": "a58e8da9",
   "metadata": {},
   "outputs": [],
   "source": []
  },
  {
   "cell_type": "code",
   "execution_count": null,
   "id": "5f82c530",
   "metadata": {},
   "outputs": [],
   "source": []
  },
  {
   "cell_type": "code",
   "execution_count": null,
   "id": "eb7dabe4",
   "metadata": {},
   "outputs": [],
   "source": []
  },
  {
   "cell_type": "code",
   "execution_count": null,
   "id": "ba188624",
   "metadata": {},
   "outputs": [],
   "source": []
  },
  {
   "cell_type": "code",
   "execution_count": null,
   "id": "84dfa534",
   "metadata": {},
   "outputs": [],
   "source": []
  },
  {
   "cell_type": "code",
   "execution_count": null,
   "id": "ff870a6a",
   "metadata": {},
   "outputs": [],
   "source": []
  },
  {
   "cell_type": "code",
   "execution_count": null,
   "id": "bf7efd1e",
   "metadata": {},
   "outputs": [],
   "source": []
  },
  {
   "cell_type": "code",
   "execution_count": null,
   "id": "4bbea933",
   "metadata": {},
   "outputs": [],
   "source": []
  }
 ],
 "metadata": {
  "kernelspec": {
   "display_name": "PythonData",
   "language": "python",
   "name": "pythondata"
  },
  "language_info": {
   "codemirror_mode": {
    "name": "ipython",
    "version": 3
   },
   "file_extension": ".py",
   "mimetype": "text/x-python",
   "name": "python",
   "nbconvert_exporter": "python",
   "pygments_lexer": "ipython3",
   "version": "3.9.7"
  }
 },
 "nbformat": 4,
 "nbformat_minor": 5
}
